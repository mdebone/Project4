{
 "cells": [
  {
   "cell_type": "code",
   "execution_count": 1,
   "id": "f08293b6",
   "metadata": {},
   "outputs": [],
   "source": [
    "import numpy as np\n",
    "import pandas as pd\n",
    "import matplotlib.pyplot as plt\n",
    "from matplotlib.patches import Circle\n",
    "from skimage.io import imshow\n",
    "import math"
   ]
  },
  {
   "cell_type": "code",
   "execution_count": 2,
   "id": "ea4b679c",
   "metadata": {},
   "outputs": [],
   "source": [
    "# Check if row has any NaN values \n",
    "def has_nan(keypoints):\n",
    "    for i in range(len(keypoints)):\n",
    "        if math.isnan(keypoints[i]):\n",
    "            return True\n",
    "    return False"
   ]
  },
  {
   "cell_type": "code",
   "execution_count": 3,
   "id": "782c73eb",
   "metadata": {},
   "outputs": [],
   "source": [
    "# Function which plots an image with it's corresponding keypoints\n",
    "def visualize_points(img, points):\n",
    "    fig,ax = plt.subplots(1)\n",
    "    ax.set_aspect('equal')\n",
    "    imshow(img)\n",
    "    for i in range(0,len(points),2):\n",
    "        x_renorm = (points[i]+0.5)*96       # Denormalize x-coordinate\n",
    "        y_renorm = (points[i+1]+0.5)*96     # Denormalize y-coordinate\n",
    "        circ = Circle((x_renorm, y_renorm),1, color='r')    # Plot the keypoints at the x and y coordinates\n",
    "        ax.add_patch(circ)\n",
    "    plt.show()"
   ]
  },
  {
   "cell_type": "code",
   "execution_count": 5,
   "id": "b8f377ef",
   "metadata": {},
   "outputs": [],
   "source": [
    "# Read the data as Dataframes\n",
    "training = pd.read_csv('data/training.csv')\n",
    "test = pd.read_csv('data/test.csv')"
   ]
  },
  {
   "cell_type": "code",
   "execution_count": 6,
   "id": "24d452bf",
   "metadata": {},
   "outputs": [],
   "source": [
    "# Get training data\n",
    "imgs_train = []\n",
    "points_train = []\n",
    "for i in range(len(training)):\n",
    "    points = training.iloc[i,:-1]\n",
    "    if has_nan(points) is False:\n",
    "        test_image = training.iloc[i,-1]        # Get the image data\n",
    "        test_image = np.array(test_image.split(' ')).astype(int)    \n",
    "        test_image = np.reshape(test_image, (96,96))        # Reshape into an array of size 96x96\n",
    "        test_image = test_image/255         # Normalize image\n",
    "        imgs_train.append(test_image)\n",
    "        \n",
    "        keypoints = training.iloc[i,:-1].astype(int).values\n",
    "        keypoints = keypoints/96 - 0.5  # Normalize keypoint coordinates\n",
    "        points_train.append(keypoints)"
   ]
  },
  {
   "cell_type": "code",
   "execution_count": 7,
   "id": "ae027b82",
   "metadata": {},
   "outputs": [],
   "source": [
    "imgs_train = np.array(imgs_train)    "
   ]
  },
  {
   "cell_type": "code",
   "execution_count": 8,
   "id": "38132dd4",
   "metadata": {},
   "outputs": [],
   "source": [
    "points_train = np.array(points_train)"
   ]
  },
  {
   "cell_type": "code",
   "execution_count": 9,
   "id": "816246ce",
   "metadata": {},
   "outputs": [],
   "source": [
    "# Get test data\n",
    "imgs_test = []\n",
    "for i in range(len(test)):\n",
    "    test_image = test.iloc[i,-1]        # Get the image data\n",
    "    test_image = np.array(test_image.split(' ')).astype(int)\n",
    "    test_image = np.reshape(test_image, (96,96))        # Reshape into an array of size 96x96\n",
    "    test_image = test_image/255     # Normalize image\n",
    "    imgs_test.append(test_image)"
   ]
  },
  {
   "cell_type": "code",
   "execution_count": 10,
   "id": "a3b9f553",
   "metadata": {},
   "outputs": [],
   "source": [
    "imgs_test = np.array(imgs_test)"
   ]
  },
  {
   "cell_type": "code",
   "execution_count": 11,
   "id": "c82c28ad",
   "metadata": {},
   "outputs": [],
   "source": [
    "# Data Augmentation by mirroring the images\n",
    "def augment(img, points):\n",
    "    f_img = img[:, ::-1]        # Mirror the image\n",
    "    for i in range(0,len(points),2):        # Mirror the key point coordinates\n",
    "        x_renorm = (points[i]+0.5)*96       # Denormalize x-coordinate\n",
    "        dx = x_renorm - 48          # Get distance to midpoint\n",
    "        x_renorm_flipped = x_renorm - 2*dx      \n",
    "        points[i] = x_renorm_flipped/96 - 0.5       # Normalize x-coordinate\n",
    "    return f_img, points"
   ]
  },
  {
   "cell_type": "code",
   "execution_count": 12,
   "id": "2d8705da",
   "metadata": {},
   "outputs": [],
   "source": [
    "aug_imgs_train = []"
   ]
  },
  {
   "cell_type": "code",
   "execution_count": 13,
   "id": "9237f878",
   "metadata": {},
   "outputs": [],
   "source": [
    "aug_points_train = []"
   ]
  },
  {
   "cell_type": "code",
   "execution_count": 14,
   "id": "57b3a08e",
   "metadata": {},
   "outputs": [],
   "source": [
    "for i, img in enumerate(imgs_train):\n",
    "    f_img, f_points = augment(img, points_train[i])\n",
    "    aug_imgs_train.append(f_img)\n",
    "    aug_points_train.append(f_points)"
   ]
  },
  {
   "cell_type": "code",
   "execution_count": 15,
   "id": "dccf5b0e",
   "metadata": {},
   "outputs": [],
   "source": [
    "aug_imgs_train = np.array(aug_imgs_train)"
   ]
  },
  {
   "cell_type": "code",
   "execution_count": 16,
   "id": "dc62bba5",
   "metadata": {},
   "outputs": [],
   "source": [
    "aug_points_train = np.array(aug_points_train)"
   ]
  },
  {
   "cell_type": "code",
   "execution_count": 17,
   "id": "c46dba4a",
   "metadata": {},
   "outputs": [],
   "source": [
    "# Combine the original data and augmented data\n",
    "imgs_total = np.concatenate((imgs_train, aug_imgs_train), axis=0)       \n",
    "points_total = np.concatenate((points_train, aug_points_train), axis=0)"
   ]
  },
  {
   "cell_type": "code",
   "execution_count": 18,
   "id": "06b159b2",
   "metadata": {},
   "outputs": [],
   "source": [
    "def get_train_data():\n",
    "    imgs_total_reshaped = np.reshape(imgs_total, (imgs_total.shape[0],imgs_total.shape[1],imgs_total.shape[2], 1))\n",
    "    return imgs_total_reshaped,points_total"
   ]
  },
  {
   "cell_type": "code",
   "execution_count": 19,
   "id": "8933e5f6",
   "metadata": {},
   "outputs": [],
   "source": [
    "def get_test_data():\n",
    "    return imgs_test"
   ]
  },
  {
   "cell_type": "code",
   "execution_count": null,
   "id": "5e7f3332",
   "metadata": {},
   "outputs": [],
   "source": []
  }
 ],
 "metadata": {
  "kernelspec": {
   "display_name": "Python 3",
   "language": "python",
   "name": "python3"
  },
  "language_info": {
   "codemirror_mode": {
    "name": "ipython",
    "version": 3
   },
   "file_extension": ".py",
   "mimetype": "text/x-python",
   "name": "python",
   "nbconvert_exporter": "python",
   "pygments_lexer": "ipython3",
   "version": "3.6.13"
  }
 },
 "nbformat": 4,
 "nbformat_minor": 5
}
